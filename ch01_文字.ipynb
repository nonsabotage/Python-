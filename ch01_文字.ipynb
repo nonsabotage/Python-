{
 "metadata": {
  "language_info": {
   "codemirror_mode": {
    "name": "ipython",
    "version": 3
   },
   "file_extension": ".py",
   "mimetype": "text/x-python",
   "name": "python",
   "nbconvert_exporter": "python",
   "pygments_lexer": "ipython3",
   "version": "3.8.3-final"
  },
  "orig_nbformat": 2,
  "kernelspec": {
   "name": "python3",
   "display_name": "Python 3",
   "language": "python"
  }
 },
 "nbformat": 4,
 "nbformat_minor": 2,
 "cells": [
  {
   "source": [
    "# 文字\n",
    "\n",
    "## エンコーディング\n",
    "\n",
    "テキストデータとはそれを構成する文字と文字コードを並べたものである. \n",
    "\n",
    "文字を文字コードに変換することをエンコードという. 文字コードを文字に変換することをデコードという. \n",
    "\n",
    "文字コードは次のように複数種類ある．\n",
    "\n"
   ],
   "cell_type": "markdown",
   "metadata": {}
  },
  {
   "cell_type": "code",
   "execution_count": 3,
   "metadata": {},
   "outputs": [
    {
     "output_type": "stream",
     "name": "stdout",
     "text": [
      "[181, 254]\n[139, 158]\n[228, 186, 172]\n"
     ]
    }
   ],
   "source": [
    "codes = [\"EUC-JP\", \"Shift_JIS\", \"UTF-8\"]\n",
    "for cd in codes:\n",
    "    print(list(\"京\".encode(cd)))"
   ]
  },
  {
   "source": [
    "エンコードされた文字，つまり数値から文字コードを推定するには次のようにする. "
   ],
   "cell_type": "markdown",
   "metadata": {}
  },
  {
   "cell_type": "code",
   "execution_count": 5,
   "metadata": {},
   "outputs": [
    {
     "output_type": "execute_result",
     "data": {
      "text/plain": [
       "{'encoding': 'utf-8', 'confidence': 0.99, 'language': ''}"
      ]
     },
     "metadata": {},
     "execution_count": 5
    }
   ],
   "source": [
    "import chardet\n",
    "\n",
    "string = \"明日，京都へ行きます\"\n",
    "encoded = string.encode(\"UTF-8\")\n",
    "chardet.detect(encoded)"
   ]
  },
  {
   "source": [
    "上記があれば次のようなエンコーディングに応じて読み込むの対応が可能なプログラムをかける. "
   ],
   "cell_type": "markdown",
   "metadata": {}
  },
  {
   "cell_type": "code",
   "execution_count": 45,
   "metadata": {},
   "outputs": [],
   "source": [
    "import chardet\n",
    "\n",
    "def get_string_from_file(filename):\n",
    "    with open(filename, \"rb\") as f:\n",
    "        d = f.read()\n",
    "        e = chardet.detect(d)[\"encoding\"]\n",
    "        if e is None:\n",
    "            e = \"UTF-8\"\n",
    "        return d.decode(e)"
   ]
  },
  {
   "cell_type": "code",
   "execution_count": null,
   "metadata": {},
   "outputs": [],
   "source": []
  },
  {
   "source": [
    "## 文字 N グラム\n",
    "\n",
    "文字Nグラムとは長さNの部分文字列のことである．\n",
    "\n",
    "通常は単にNグラムといえば，単語のNグラム，つまり単語がN個並んだものを指す．\n",
    "\n"
   ],
   "cell_type": "markdown",
   "metadata": {}
  },
  {
   "cell_type": "code",
   "execution_count": 8,
   "metadata": {},
   "outputs": [
    {
     "output_type": "execute_result",
     "data": {
      "text/plain": [
       "['情', '報', '検', '索']"
      ]
     },
     "metadata": {},
     "execution_count": 8
    }
   ],
   "source": [
    "def get_ngram(string, N=1):\n",
    "    return [string[i:(i+N)] for i in range(len(string) - N + 1)]\n",
    "\n",
    "string = \"情報検索\"\n",
    "get_ngram(string, 1)\n"
   ]
  },
  {
   "cell_type": "code",
   "execution_count": 9,
   "metadata": {},
   "outputs": [
    {
     "output_type": "execute_result",
     "data": {
      "text/plain": [
       "['情報', '報検', '検索']"
      ]
     },
     "metadata": {},
     "execution_count": 9
    }
   ],
   "source": [
    "\n",
    "get_ngram(string, 2)"
   ]
  },
  {
   "source": [
    "文字Nグラムは，索引や検索に使われるほか，文字Nグラムの頻度分布を文章の特徴量として使うことがある. "
   ],
   "cell_type": "markdown",
   "metadata": {}
  },
  {
   "cell_type": "code",
   "execution_count": 46,
   "metadata": {},
   "outputs": [],
   "source": [
    "from collections import Counter\n",
    "def get_most_common_ngram(filename, N = 1, k = 1):\n",
    "    s = get_string_from_file(filename)\n",
    "    return Counter(get_ngram(s, N)).most_common(k)"
   ]
  },
  {
   "cell_type": "code",
   "execution_count": 74,
   "metadata": {},
   "outputs": [],
   "source": [
    "from pathlib import Path\n",
    "data_dir = Path(\"irpb-files/data\")\n",
    "target_files = list(data_dir.glob(\"ch01/0[0-9].txt\"))\n"
   ]
  },
  {
   "cell_type": "code",
   "execution_count": 48,
   "metadata": {},
   "outputs": [
    {
     "output_type": "stream",
     "name": "stdout",
     "text": [
      "[('祭', 3)]\n[('は', 4)]\n[('す', 6)]\n[('0', 2)]\n"
     ]
    }
   ],
   "source": [
    "for f in target_files:\n",
    "    print(get_most_common_ngram(f))\n"
   ]
  },
  {
   "cell_type": "code",
   "execution_count": 49,
   "metadata": {},
   "outputs": [
    {
     "output_type": "execute_result",
     "data": {
      "text/plain": [
       "[('メロス', 76), ('った。', 53), ('ロスは', 47), ('のだ。', 37), ('。メロ', 33)]"
      ]
     },
     "metadata": {},
     "execution_count": 49
    }
   ],
   "source": [
    "get_most_common_ngram(data_dir / \"ch01\" / \"melos.txt\", N = 3, k = 5)"
   ]
  },
  {
   "source": [
    "文字Nグラムは作者の推定などにも役立つ. "
   ],
   "cell_type": "markdown",
   "metadata": {}
  },
  {
   "source": [
    "## 正規表現\n",
    "\n",
    "\n"
   ],
   "cell_type": "markdown",
   "metadata": {}
  },
  {
   "cell_type": "code",
   "execution_count": 52,
   "metadata": {},
   "outputs": [
    {
     "output_type": "execute_result",
     "data": {
      "text/plain": [
       "'『つぶ餡』'"
      ]
     },
     "metadata": {},
     "execution_count": 52
    }
   ],
   "source": [
    "import re\n",
    "\n",
    "string = \"やっぱり『つぶ餡』が好き\"\n",
    "pattern = '『.*』'\n",
    "result = re.search(pattern, string)\n",
    "result.group(0)"
   ]
  },
  {
   "source": [
    "groupはグループ化の順番で選択するもの. ０の場合にはマッチした文字列全体.\n",
    "\n",
    "次のように入れ子になっている場合には，内側に行くほど順番はあと. "
   ],
   "cell_type": "markdown",
   "metadata": {}
  },
  {
   "cell_type": "code",
   "execution_count": 59,
   "metadata": {},
   "outputs": [
    {
     "output_type": "execute_result",
     "data": {
      "text/plain": [
       "'『つぶ餡』'"
      ]
     },
     "metadata": {},
     "execution_count": 59
    }
   ],
   "source": [
    "pattern = '『((..).*)』'\n",
    "result = re.search(pattern, string)\n",
    "result.group(0)"
   ]
  },
  {
   "cell_type": "code",
   "execution_count": 60,
   "metadata": {},
   "outputs": [
    {
     "output_type": "execute_result",
     "data": {
      "text/plain": [
       "('つぶ餡', 'つぶ')"
      ]
     },
     "metadata": {},
     "execution_count": 60
    }
   ],
   "source": [
    "result.groups()"
   ]
  },
  {
   "cell_type": "code",
   "execution_count": 63,
   "metadata": {},
   "outputs": [
    {
     "output_type": "execute_result",
     "data": {
      "text/plain": [
       "'つぶ'"
      ]
     },
     "metadata": {},
     "execution_count": 63
    }
   ],
   "source": [
    "result.group(2)"
   ]
  },
  {
   "source": [
    "そのほかには，グループの参照と最短一致/最長一致について覚えておくこと．"
   ],
   "cell_type": "markdown",
   "metadata": {}
  },
  {
   "cell_type": "code",
   "execution_count": 67,
   "metadata": {},
   "outputs": [
    {
     "output_type": "execute_result",
     "data": {
      "text/plain": [
       "'もちもち'"
      ]
     },
     "metadata": {},
     "execution_count": 67
    }
   ],
   "source": [
    "string = \"このぼたもちはとてももちもちしている\"\n",
    "pattern = r\"(..)\\1\"\n",
    "ret = re.search(pattern, string)\n",
    "ret.group()"
   ]
  },
  {
   "cell_type": "code",
   "execution_count": 68,
   "metadata": {},
   "outputs": [
    {
     "output_type": "execute_result",
     "data": {
      "text/plain": [
       "'『つぶ餡』'"
      ]
     },
     "metadata": {},
     "execution_count": 68
    }
   ],
   "source": [
    "string = \"『つぶ餡』にするか『こし餡』にするか\"\n",
    "pattern = r\"『(.*?)』\" # 最短一致\n",
    "ret = re.search(pattern, string)\n",
    "ret.group()"
   ]
  },
  {
   "source": [
    "マッチした文字のイテレータ化. "
   ],
   "cell_type": "markdown",
   "metadata": {}
  },
  {
   "cell_type": "code",
   "execution_count": 71,
   "metadata": {},
   "outputs": [
    {
     "output_type": "execute_result",
     "data": {
      "text/plain": [
       "['つぶ餡', 'こし餡']"
      ]
     },
     "metadata": {},
     "execution_count": 71
    }
   ],
   "source": [
    "string = \"『つぶ餡』にするか『こし餡』にするか\"\n",
    "pattern = r\"『(.*?)』\"\n",
    "ret = re.findall(pattern, string)\n",
    "ret"
   ]
  },
  {
   "source": [
    "正規表現の使った処理の方法として，例えば「京都」という単語の前後n文字を抽出することを考える. \n"
   ],
   "cell_type": "markdown",
   "metadata": {}
  },
  {
   "cell_type": "code",
   "execution_count": 85,
   "metadata": {},
   "outputs": [],
   "source": [
    "import re\n",
    "\n",
    "def get_snippet_from_file(fielname, query, width = 2):\n",
    "    s = get_string_from_file(fielname)\n",
    "    p = '.{0,%d}%s.{0,%d}' % (width, query, width)\n",
    "    r = re.search(p, s)\n",
    "    if r :\n",
    "        return r.group(0)\n",
    "    else : \n",
    "        return None"
   ]
  },
  {
   "cell_type": "code",
   "execution_count": 88,
   "metadata": {},
   "outputs": [
    {
     "output_type": "stream",
     "name": "stdout",
     "text": [
      "祭は京都三大\nNone\n京都のお\nは東京都江東\n"
     ]
    }
   ],
   "source": [
    "for f in target_files:\n",
    "    print(get_snippet_from_file(f, \"京都\"))"
   ]
  },
  {
   "cell_type": "code",
   "execution_count": 81,
   "metadata": {},
   "outputs": [
    {
     "output_type": "execute_result",
     "data": {
      "text/plain": [
       "WindowsPath('irpb-files/data/ch01/01.txt')"
      ]
     },
     "metadata": {},
     "execution_count": 81
    }
   ],
   "source": [
    "target_files[0]"
   ]
  },
  {
   "cell_type": "code",
   "execution_count": null,
   "metadata": {},
   "outputs": [],
   "source": []
  }
 ]
}